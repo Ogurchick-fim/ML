{
 "cells": [
  {
   "cell_type": "markdown",
   "id": "44514ea1",
   "metadata": {},
   "source": [
    "Atalov S.\n",
    "\n",
    "Fundamentals of Machine Learning and Artificial Intelligence\n",
    "\n",
    "# Gradient Boosting Classifier Implementation\n",
    "---"
   ]
  },
  {
   "cell_type": "code",
   "execution_count": null,
   "id": "f2e5da45",
   "metadata": {},
   "outputs": [],
   "source": [
    "import pandas as pd\n",
    "import numpy as np\n",
    "\n",
    "from sklearn.tree import DecisionTreeRegressor\n",
    "from sklearn.model_selection import train_test_split\n",
    "from sklearn.metrics import accuracy_score"
   ]
  },
  {
   "cell_type": "code",
   "execution_count": null,
   "id": "9570e8f6",
   "metadata": {},
   "outputs": [],
   "source": [
    "# Load and prepare the data\n",
    "titanic_train = 'https://raw.githubusercontent.com/lobachevksy/teaching/main/titanic/train.csv'\n",
    "data = pd.read_csv(titanic_train)\n",
    "\n",
    "data.drop(columns=['PassengerId', 'Cabin', 'Ticket', 'Name'], inplace=True)\n",
    "\n",
    "data['Age'].fillna(data['Age'].median(), inplace=True)\n",
    "\n",
    "data['Sex'] = data['Sex'].map({'male': 1, 'female': 0}).astype(int)\n",
    "\n",
    "data = pd.get_dummies(data, columns=['Embarked'])"
   ]
  },
  {
   "cell_type": "code",
   "execution_count": null,
   "id": "30f5aa11",
   "metadata": {},
   "outputs": [],
   "source": [
    "data"
   ]
  },
  {
   "cell_type": "code",
   "execution_count": null,
   "id": "6e29728a",
   "metadata": {},
   "outputs": [],
   "source": [
    "# Select features and target\n",
    "X = data.copy()\n",
    "y = X.pop('Survived')\n",
    "\n",
    "X_train, X_test, y_train, y_test = train_test_split(X, y, test_size=0.2, random_state=0)"
   ]
  },
  {
   "cell_type": "markdown",
   "id": "a586e360",
   "metadata": {},
   "source": [
    "## Implementation"
   ]
  },
  {
   "cell_type": "markdown",
   "id": "d420e83b",
   "metadata": {},
   "source": [
    "$L(y,\\hat{y})=−ylog(\\hat{y})−(1−y)log(1−\\hat{y})$"
   ]
  },
  {
   "cell_type": "code",
   "execution_count": null,
   "id": "250cf1ba",
   "metadata": {},
   "outputs": [],
   "source": [
    "def entropy_loss_gradient(y, p):\n",
    "    \"\"\" Entropy loss \"\"\"\n",
    "    p = np.clip(p, 1e-15, 1 - 1e-15)\n",
    "    return -(y / p) + (1 - y) / (1 - p)"
   ]
  },
  {
   "cell_type": "code",
   "execution_count": null,
   "id": "a6886da1",
   "metadata": {},
   "outputs": [],
   "source": [
    "def sigmoid(z):\n",
    "    \"\"\" Sigmoid function. \"\"\"\n",
    "    # TODO\n",
    "    pass"
   ]
  },
  {
   "cell_type": "code",
   "execution_count": null,
   "id": "e7003e3f",
   "metadata": {},
   "outputs": [],
   "source": [
    "n_estimators = 100\n",
    "learning_rate = 0.5\n",
    "min_samples_split = 2\n",
    "max_depth = 2"
   ]
  },
  {
   "cell_type": "code",
   "execution_count": null,
   "id": "518ab2c1",
   "metadata": {},
   "outputs": [],
   "source": [
    "# Initialize trees\n",
    "trees = []\n",
    "for _ in range(n_estimators):\n",
    "    trees.append(\n",
    "        DecisionTreeRegressor(\n",
    "            max_depth=max_depth, min_samples_split=min_samples_split\n",
    "        )\n",
    "    )\n",
    "\n",
    "# Initial predictions as average\n",
    "y_hat = np.full_like(y_train, fill_value=np.mean(y_train, axis=0))"
   ]
  },
  {
   "cell_type": "code",
   "execution_count": null,
   "id": "49b0832c",
   "metadata": {},
   "outputs": [],
   "source": [
    "for tree in trees:\n",
    "    grad = -entropy_loss_gradient(y_train, y_hat)\n",
    "    \n",
    "    tree.fit(X_train, grad)\n",
    "    \n",
    "    h = tree.predict(X_train)\n",
    "    \n",
    "    y_hat = y_hat + learning_rate * h"
   ]
  },
  {
   "cell_type": "code",
   "execution_count": null,
   "id": "7dee4499",
   "metadata": {},
   "outputs": [],
   "source": [
    "def predict(X, trees, learning_rate):\n",
    "    y_hat = np.array([])\n",
    "    for tree in trees:\n",
    "        h = tree.predict(X)\n",
    "        h = learning_rate * h\n",
    "        y_hat = h if not y_hat.any() else y_hat + h\n",
    "        \n",
    "    y_hat = np.clip(y_hat, 1e-30, 1 - 1e-30)\n",
    "    \n",
    "    probabilities = sigmoid(y_hat)\n",
    "    y_hat = (probabilities > 0.5).astype(\"int\")\n",
    "    return y_hat"
   ]
  },
  {
   "cell_type": "code",
   "execution_count": null,
   "id": "076fb1a9",
   "metadata": {},
   "outputs": [],
   "source": [
    "predict(X_test, trees, learning_rate)"
   ]
  },
  {
   "cell_type": "code",
   "execution_count": null,
   "id": "2ac2a83d",
   "metadata": {},
   "outputs": [],
   "source": [
    "accuracy_score(y_test, y_pred)"
   ]
  },
  {
   "cell_type": "code",
   "execution_count": null,
   "id": "e79a518b",
   "metadata": {},
   "outputs": [],
   "source": []
  },
  {
   "cell_type": "code",
   "execution_count": null,
   "id": "5131c446",
   "metadata": {},
   "outputs": [],
   "source": []
  },
  {
   "cell_type": "code",
   "execution_count": null,
   "id": "fdea9ae3",
   "metadata": {},
   "outputs": [],
   "source": []
  },
  {
   "cell_type": "code",
   "execution_count": null,
   "id": "e88aa67f",
   "metadata": {},
   "outputs": [],
   "source": []
  },
  {
   "cell_type": "code",
   "execution_count": null,
   "id": "f3fa1131",
   "metadata": {},
   "outputs": [],
   "source": []
  }
 ],
 "metadata": {
  "kernelspec": {
   "display_name": "Python 3 (ipykernel)",
   "language": "python",
   "name": "python3"
  },
  "language_info": {
   "codemirror_mode": {
    "name": "ipython",
    "version": 3
   },
   "file_extension": ".py",
   "mimetype": "text/x-python",
   "name": "python",
   "nbconvert_exporter": "python",
   "pygments_lexer": "ipython3",
   "version": "3.10.5"
  }
 },
 "nbformat": 4,
 "nbformat_minor": 5
}
