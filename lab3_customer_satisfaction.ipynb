{
 "cells": [
  {
   "cell_type": "markdown",
   "id": "e56891ff",
   "metadata": {},
   "source": [
    "Atalov S. (TSI AUCA)\n",
    "\n",
    "---\n",
    "\n",
    "# Lab3. Passenger Satisfaction\n",
    "- **5 points**\n",
    "- **Submit:** csv file and this notebook\n",
    "- **Deadline:** Mar 29, 23:59.\n",
    "\n",
    "This task is devoted to a full-fledged solution to the problem of machine learning."
   ]
  },
  {
   "cell_type": "markdown",
   "id": "ac05dc4c",
   "metadata": {},
   "source": [
    "<div>\n",
    "    <img src=\"https://live-production.wcms.abc-cdn.net.au/ac56ffe2b5282f82358e6b396e2da2ba?impolicy=wcms_crop_resize&cropH=1915&cropW=3404&xPos=5&yPos=0&width=862&height=485\" width=\"500\"/>\n",
    "</div>\n",
    "\n",
    "\n",
    "---"
   ]
  },
  {
   "cell_type": "markdown",
   "id": "1a3100c4",
   "metadata": {},
   "source": [
    "## 0. Problem Statement\n",
    "\n",
    "About Company:\n",
    "\n",
    "**TSI Airlines** - largest airline of Kyrgyzstan by size and passengers carried.\n",
    "\n",
    "#### Problem\n",
    "You need to create a model that will accurately predict passenger **satisfaction**."
   ]
  },
  {
   "cell_type": "code",
   "execution_count": 81,
   "id": "9f44b1e5",
   "metadata": {},
   "outputs": [],
   "source": [
    "import pandas as pd\n",
    "import numpy as np\n",
    "from matplotlib import pyplot as plt\n",
    "\n",
    "from sklearn.tree import DecisionTreeClassifier\n",
    "from sklearn.ensemble import RandomForestClassifier\n",
    "\n",
    "from sklearn.model_selection import train_test_split\n",
    "df = pd.read_csv(\"satisfaction_train.csv\")\n"
   ]
  },
  {
   "cell_type": "code",
   "execution_count": 82,
   "id": "4a166a19",
   "metadata": {},
   "outputs": [
    {
     "data": {
      "text/html": [
       "<div>\n",
       "<style scoped>\n",
       "    .dataframe tbody tr th:only-of-type {\n",
       "        vertical-align: middle;\n",
       "    }\n",
       "\n",
       "    .dataframe tbody tr th {\n",
       "        vertical-align: top;\n",
       "    }\n",
       "\n",
       "    .dataframe thead th {\n",
       "        text-align: right;\n",
       "    }\n",
       "</style>\n",
       "<table border=\"1\" class=\"dataframe\">\n",
       "  <thead>\n",
       "    <tr style=\"text-align: right;\">\n",
       "      <th></th>\n",
       "      <th>id</th>\n",
       "      <th>Gender</th>\n",
       "      <th>Customer Type</th>\n",
       "      <th>Age</th>\n",
       "      <th>Type of Travel</th>\n",
       "      <th>Class</th>\n",
       "      <th>Flight Distance</th>\n",
       "      <th>Inflight wifi service</th>\n",
       "      <th>Departure/Arrival time convenient</th>\n",
       "      <th>Ease of Online booking</th>\n",
       "      <th>...</th>\n",
       "      <th>Inflight entertainment</th>\n",
       "      <th>On-board service</th>\n",
       "      <th>Leg room service</th>\n",
       "      <th>Baggage handling</th>\n",
       "      <th>Checkin service</th>\n",
       "      <th>Inflight service</th>\n",
       "      <th>Cleanliness</th>\n",
       "      <th>Departure Delay in Minutes</th>\n",
       "      <th>Arrival Delay in Minutes</th>\n",
       "      <th>satisfaction</th>\n",
       "    </tr>\n",
       "  </thead>\n",
       "  <tbody>\n",
       "    <tr>\n",
       "      <th>0</th>\n",
       "      <td>87265</td>\n",
       "      <td>Male</td>\n",
       "      <td>Loyal Customer</td>\n",
       "      <td>25</td>\n",
       "      <td>Business travel</td>\n",
       "      <td>Business</td>\n",
       "      <td>3904</td>\n",
       "      <td>4</td>\n",
       "      <td>4</td>\n",
       "      <td>1</td>\n",
       "      <td>...</td>\n",
       "      <td>5</td>\n",
       "      <td>3</td>\n",
       "      <td>3</td>\n",
       "      <td>4</td>\n",
       "      <td>4</td>\n",
       "      <td>5</td>\n",
       "      <td>5</td>\n",
       "      <td>0</td>\n",
       "      <td>0.0</td>\n",
       "      <td>satisfied</td>\n",
       "    </tr>\n",
       "    <tr>\n",
       "      <th>1</th>\n",
       "      <td>65499</td>\n",
       "      <td>Female</td>\n",
       "      <td>disloyal Customer</td>\n",
       "      <td>26</td>\n",
       "      <td>Business travel</td>\n",
       "      <td>Business</td>\n",
       "      <td>1067</td>\n",
       "      <td>5</td>\n",
       "      <td>5</td>\n",
       "      <td>5</td>\n",
       "      <td>...</td>\n",
       "      <td>4</td>\n",
       "      <td>3</td>\n",
       "      <td>2</td>\n",
       "      <td>5</td>\n",
       "      <td>3</td>\n",
       "      <td>5</td>\n",
       "      <td>4</td>\n",
       "      <td>0</td>\n",
       "      <td>0.0</td>\n",
       "      <td>satisfied</td>\n",
       "    </tr>\n",
       "    <tr>\n",
       "      <th>2</th>\n",
       "      <td>10789</td>\n",
       "      <td>Female</td>\n",
       "      <td>Loyal Customer</td>\n",
       "      <td>55</td>\n",
       "      <td>Business travel</td>\n",
       "      <td>Business</td>\n",
       "      <td>3953</td>\n",
       "      <td>4</td>\n",
       "      <td>5</td>\n",
       "      <td>5</td>\n",
       "      <td>...</td>\n",
       "      <td>4</td>\n",
       "      <td>4</td>\n",
       "      <td>4</td>\n",
       "      <td>4</td>\n",
       "      <td>4</td>\n",
       "      <td>4</td>\n",
       "      <td>4</td>\n",
       "      <td>0</td>\n",
       "      <td>11.0</td>\n",
       "      <td>neutral or dissatisfied</td>\n",
       "    </tr>\n",
       "    <tr>\n",
       "      <th>3</th>\n",
       "      <td>5490</td>\n",
       "      <td>Male</td>\n",
       "      <td>Loyal Customer</td>\n",
       "      <td>32</td>\n",
       "      <td>Business travel</td>\n",
       "      <td>Eco</td>\n",
       "      <td>910</td>\n",
       "      <td>1</td>\n",
       "      <td>1</td>\n",
       "      <td>1</td>\n",
       "      <td>...</td>\n",
       "      <td>1</td>\n",
       "      <td>1</td>\n",
       "      <td>1</td>\n",
       "      <td>4</td>\n",
       "      <td>4</td>\n",
       "      <td>3</td>\n",
       "      <td>1</td>\n",
       "      <td>0</td>\n",
       "      <td>0.0</td>\n",
       "      <td>neutral or dissatisfied</td>\n",
       "    </tr>\n",
       "    <tr>\n",
       "      <th>4</th>\n",
       "      <td>99452</td>\n",
       "      <td>Female</td>\n",
       "      <td>Loyal Customer</td>\n",
       "      <td>36</td>\n",
       "      <td>Business travel</td>\n",
       "      <td>Business</td>\n",
       "      <td>283</td>\n",
       "      <td>1</td>\n",
       "      <td>1</td>\n",
       "      <td>1</td>\n",
       "      <td>...</td>\n",
       "      <td>5</td>\n",
       "      <td>5</td>\n",
       "      <td>5</td>\n",
       "      <td>5</td>\n",
       "      <td>3</td>\n",
       "      <td>5</td>\n",
       "      <td>3</td>\n",
       "      <td>17</td>\n",
       "      <td>20.0</td>\n",
       "      <td>satisfied</td>\n",
       "    </tr>\n",
       "    <tr>\n",
       "      <th>...</th>\n",
       "      <td>...</td>\n",
       "      <td>...</td>\n",
       "      <td>...</td>\n",
       "      <td>...</td>\n",
       "      <td>...</td>\n",
       "      <td>...</td>\n",
       "      <td>...</td>\n",
       "      <td>...</td>\n",
       "      <td>...</td>\n",
       "      <td>...</td>\n",
       "      <td>...</td>\n",
       "      <td>...</td>\n",
       "      <td>...</td>\n",
       "      <td>...</td>\n",
       "      <td>...</td>\n",
       "      <td>...</td>\n",
       "      <td>...</td>\n",
       "      <td>...</td>\n",
       "      <td>...</td>\n",
       "      <td>...</td>\n",
       "      <td>...</td>\n",
       "    </tr>\n",
       "    <tr>\n",
       "      <th>79995</th>\n",
       "      <td>40802</td>\n",
       "      <td>Female</td>\n",
       "      <td>disloyal Customer</td>\n",
       "      <td>26</td>\n",
       "      <td>Business travel</td>\n",
       "      <td>Eco</td>\n",
       "      <td>532</td>\n",
       "      <td>2</td>\n",
       "      <td>3</td>\n",
       "      <td>2</td>\n",
       "      <td>...</td>\n",
       "      <td>3</td>\n",
       "      <td>5</td>\n",
       "      <td>2</td>\n",
       "      <td>3</td>\n",
       "      <td>2</td>\n",
       "      <td>3</td>\n",
       "      <td>3</td>\n",
       "      <td>0</td>\n",
       "      <td>0.0</td>\n",
       "      <td>neutral or dissatisfied</td>\n",
       "    </tr>\n",
       "    <tr>\n",
       "      <th>79996</th>\n",
       "      <td>97109</td>\n",
       "      <td>Male</td>\n",
       "      <td>disloyal Customer</td>\n",
       "      <td>29</td>\n",
       "      <td>Business travel</td>\n",
       "      <td>Business</td>\n",
       "      <td>1476</td>\n",
       "      <td>5</td>\n",
       "      <td>5</td>\n",
       "      <td>5</td>\n",
       "      <td>...</td>\n",
       "      <td>4</td>\n",
       "      <td>4</td>\n",
       "      <td>5</td>\n",
       "      <td>4</td>\n",
       "      <td>4</td>\n",
       "      <td>4</td>\n",
       "      <td>4</td>\n",
       "      <td>3</td>\n",
       "      <td>0.0</td>\n",
       "      <td>satisfied</td>\n",
       "    </tr>\n",
       "    <tr>\n",
       "      <th>79997</th>\n",
       "      <td>92611</td>\n",
       "      <td>Female</td>\n",
       "      <td>Loyal Customer</td>\n",
       "      <td>33</td>\n",
       "      <td>Business travel</td>\n",
       "      <td>Eco Plus</td>\n",
       "      <td>2342</td>\n",
       "      <td>4</td>\n",
       "      <td>3</td>\n",
       "      <td>3</td>\n",
       "      <td>...</td>\n",
       "      <td>4</td>\n",
       "      <td>1</td>\n",
       "      <td>4</td>\n",
       "      <td>3</td>\n",
       "      <td>4</td>\n",
       "      <td>3</td>\n",
       "      <td>4</td>\n",
       "      <td>0</td>\n",
       "      <td>0.0</td>\n",
       "      <td>neutral or dissatisfied</td>\n",
       "    </tr>\n",
       "    <tr>\n",
       "      <th>79998</th>\n",
       "      <td>67394</td>\n",
       "      <td>Female</td>\n",
       "      <td>disloyal Customer</td>\n",
       "      <td>25</td>\n",
       "      <td>Business travel</td>\n",
       "      <td>Eco</td>\n",
       "      <td>592</td>\n",
       "      <td>4</td>\n",
       "      <td>3</td>\n",
       "      <td>4</td>\n",
       "      <td>...</td>\n",
       "      <td>1</td>\n",
       "      <td>3</td>\n",
       "      <td>4</td>\n",
       "      <td>4</td>\n",
       "      <td>1</td>\n",
       "      <td>4</td>\n",
       "      <td>1</td>\n",
       "      <td>2</td>\n",
       "      <td>12.0</td>\n",
       "      <td>neutral or dissatisfied</td>\n",
       "    </tr>\n",
       "    <tr>\n",
       "      <th>79999</th>\n",
       "      <td>78746</td>\n",
       "      <td>Female</td>\n",
       "      <td>Loyal Customer</td>\n",
       "      <td>55</td>\n",
       "      <td>Business travel</td>\n",
       "      <td>Business</td>\n",
       "      <td>2440</td>\n",
       "      <td>3</td>\n",
       "      <td>3</td>\n",
       "      <td>3</td>\n",
       "      <td>...</td>\n",
       "      <td>4</td>\n",
       "      <td>4</td>\n",
       "      <td>4</td>\n",
       "      <td>4</td>\n",
       "      <td>4</td>\n",
       "      <td>4</td>\n",
       "      <td>5</td>\n",
       "      <td>0</td>\n",
       "      <td>0.0</td>\n",
       "      <td>satisfied</td>\n",
       "    </tr>\n",
       "  </tbody>\n",
       "</table>\n",
       "<p>80000 rows × 24 columns</p>\n",
       "</div>"
      ],
      "text/plain": [
       "          id  Gender      Customer Type  Age   Type of Travel     Class  \\\n",
       "0      87265    Male     Loyal Customer   25  Business travel  Business   \n",
       "1      65499  Female  disloyal Customer   26  Business travel  Business   \n",
       "2      10789  Female     Loyal Customer   55  Business travel  Business   \n",
       "3       5490    Male     Loyal Customer   32  Business travel       Eco   \n",
       "4      99452  Female     Loyal Customer   36  Business travel  Business   \n",
       "...      ...     ...                ...  ...              ...       ...   \n",
       "79995  40802  Female  disloyal Customer   26  Business travel       Eco   \n",
       "79996  97109    Male  disloyal Customer   29  Business travel  Business   \n",
       "79997  92611  Female     Loyal Customer   33  Business travel  Eco Plus   \n",
       "79998  67394  Female  disloyal Customer   25  Business travel       Eco   \n",
       "79999  78746  Female     Loyal Customer   55  Business travel  Business   \n",
       "\n",
       "       Flight Distance  Inflight wifi service  \\\n",
       "0                 3904                      4   \n",
       "1                 1067                      5   \n",
       "2                 3953                      4   \n",
       "3                  910                      1   \n",
       "4                  283                      1   \n",
       "...                ...                    ...   \n",
       "79995              532                      2   \n",
       "79996             1476                      5   \n",
       "79997             2342                      4   \n",
       "79998              592                      4   \n",
       "79999             2440                      3   \n",
       "\n",
       "       Departure/Arrival time convenient  Ease of Online booking  ...  \\\n",
       "0                                      4                       1  ...   \n",
       "1                                      5                       5  ...   \n",
       "2                                      5                       5  ...   \n",
       "3                                      1                       1  ...   \n",
       "4                                      1                       1  ...   \n",
       "...                                  ...                     ...  ...   \n",
       "79995                                  3                       2  ...   \n",
       "79996                                  5                       5  ...   \n",
       "79997                                  3                       3  ...   \n",
       "79998                                  3                       4  ...   \n",
       "79999                                  3                       3  ...   \n",
       "\n",
       "       Inflight entertainment  On-board service  Leg room service  \\\n",
       "0                           5                 3                 3   \n",
       "1                           4                 3                 2   \n",
       "2                           4                 4                 4   \n",
       "3                           1                 1                 1   \n",
       "4                           5                 5                 5   \n",
       "...                       ...               ...               ...   \n",
       "79995                       3                 5                 2   \n",
       "79996                       4                 4                 5   \n",
       "79997                       4                 1                 4   \n",
       "79998                       1                 3                 4   \n",
       "79999                       4                 4                 4   \n",
       "\n",
       "       Baggage handling  Checkin service  Inflight service  Cleanliness  \\\n",
       "0                     4                4                 5            5   \n",
       "1                     5                3                 5            4   \n",
       "2                     4                4                 4            4   \n",
       "3                     4                4                 3            1   \n",
       "4                     5                3                 5            3   \n",
       "...                 ...              ...               ...          ...   \n",
       "79995                 3                2                 3            3   \n",
       "79996                 4                4                 4            4   \n",
       "79997                 3                4                 3            4   \n",
       "79998                 4                1                 4            1   \n",
       "79999                 4                4                 4            5   \n",
       "\n",
       "       Departure Delay in Minutes  Arrival Delay in Minutes  \\\n",
       "0                               0                       0.0   \n",
       "1                               0                       0.0   \n",
       "2                               0                      11.0   \n",
       "3                               0                       0.0   \n",
       "4                              17                      20.0   \n",
       "...                           ...                       ...   \n",
       "79995                           0                       0.0   \n",
       "79996                           3                       0.0   \n",
       "79997                           0                       0.0   \n",
       "79998                           2                      12.0   \n",
       "79999                           0                       0.0   \n",
       "\n",
       "                  satisfaction  \n",
       "0                    satisfied  \n",
       "1                    satisfied  \n",
       "2      neutral or dissatisfied  \n",
       "3      neutral or dissatisfied  \n",
       "4                    satisfied  \n",
       "...                        ...  \n",
       "79995  neutral or dissatisfied  \n",
       "79996                satisfied  \n",
       "79997  neutral or dissatisfied  \n",
       "79998  neutral or dissatisfied  \n",
       "79999                satisfied  \n",
       "\n",
       "[80000 rows x 24 columns]"
      ]
     },
     "execution_count": 82,
     "metadata": {},
     "output_type": "execute_result"
    }
   ],
   "source": [
    "df"
   ]
  },
  {
   "cell_type": "markdown",
   "id": "263b9477",
   "metadata": {},
   "source": [
    "## 1. Data Preprocessing"
   ]
  },
  {
   "cell_type": "code",
   "execution_count": 83,
   "id": "85cc42fa",
   "metadata": {},
   "outputs": [],
   "source": [
    "df = df.drop(columns=['id'])"
   ]
  },
  {
   "cell_type": "code",
   "execution_count": 84,
   "id": "3101a441",
   "metadata": {},
   "outputs": [
    {
     "data": {
      "text/plain": [
       "Gender                                 0\n",
       "Customer Type                          0\n",
       "Age                                    0\n",
       "Type of Travel                         0\n",
       "Class                                  0\n",
       "Flight Distance                        0\n",
       "Inflight wifi service                  0\n",
       "Departure/Arrival time convenient      0\n",
       "Ease of Online booking                 0\n",
       "Gate location                          0\n",
       "Food and drink                         0\n",
       "Online boarding                        0\n",
       "Seat comfort                           0\n",
       "Inflight entertainment                 0\n",
       "On-board service                       0\n",
       "Leg room service                       0\n",
       "Baggage handling                       0\n",
       "Checkin service                        0\n",
       "Inflight service                       0\n",
       "Cleanliness                            0\n",
       "Departure Delay in Minutes             0\n",
       "Arrival Delay in Minutes             226\n",
       "satisfaction                           0\n",
       "dtype: int64"
      ]
     },
     "execution_count": 84,
     "metadata": {},
     "output_type": "execute_result"
    }
   ],
   "source": [
    "df.isnull().sum()"
   ]
  },
  {
   "cell_type": "code",
   "execution_count": 85,
   "id": "ee9e9dfc",
   "metadata": {},
   "outputs": [],
   "source": [
    "numerical_cols = [ \"Arrival Delay in Minutes\" ]"
   ]
  },
  {
   "cell_type": "code",
   "execution_count": 86,
   "id": "226e738e",
   "metadata": {},
   "outputs": [],
   "source": [
    "def fill_missing_values(df: pd.DataFrame, strategy: str ='mean') -> pd.DataFrame:\n",
    "    \"\"\"Заполнение пустых значений указанными стратегиями\"\"\"\n",
    "    df = df.copy()\n",
    "    fill_value = 0\n",
    "    for column in df.columns:\n",
    "        if strategy == 'mean':\n",
    "            fill_value = df[column].mean()\n",
    "        elif strategy == 'median':\n",
    "            fill_value = df[column].median()\n",
    "        elif strategy == 'mode':\n",
    "            fill_value = df[column].mode()[0] # берем первую моду\n",
    "            \n",
    "        ### TO DO\n",
    "        df[column].fillna( value = fill_value, inplace=True )\n",
    "    return df"
   ]
  },
  {
   "cell_type": "code",
   "execution_count": 87,
   "id": "1ce65fd6",
   "metadata": {},
   "outputs": [],
   "source": [
    "df[numerical_cols] = fill_missing_values( df[numerical_cols] )\n"
   ]
  },
  {
   "cell_type": "code",
   "execution_count": 88,
   "id": "9f85e2e8",
   "metadata": {},
   "outputs": [
    {
     "data": {
      "text/plain": [
       "Gender                                object\n",
       "Customer Type                         object\n",
       "Age                                    int64\n",
       "Type of Travel                        object\n",
       "Class                                 object\n",
       "Flight Distance                        int64\n",
       "Inflight wifi service                  int64\n",
       "Departure/Arrival time convenient      int64\n",
       "Ease of Online booking                 int64\n",
       "Gate location                          int64\n",
       "Food and drink                         int64\n",
       "Online boarding                        int64\n",
       "Seat comfort                           int64\n",
       "Inflight entertainment                 int64\n",
       "On-board service                       int64\n",
       "Leg room service                       int64\n",
       "Baggage handling                       int64\n",
       "Checkin service                        int64\n",
       "Inflight service                       int64\n",
       "Cleanliness                            int64\n",
       "Departure Delay in Minutes             int64\n",
       "Arrival Delay in Minutes             float64\n",
       "satisfaction                          object\n",
       "dtype: object"
      ]
     },
     "execution_count": 88,
     "metadata": {},
     "output_type": "execute_result"
    }
   ],
   "source": [
    "df.dtypes"
   ]
  },
  {
   "cell_type": "code",
   "execution_count": 89,
   "id": "51b46192",
   "metadata": {},
   "outputs": [],
   "source": [
    "categorical_cols = [ \"Gender\", \"Customer Type\" ,\"Type of Travel\",\"Class\",\"satisfaction\"]"
   ]
  },
  {
   "cell_type": "code",
   "execution_count": 90,
   "id": "a67b28f6",
   "metadata": {},
   "outputs": [],
   "source": [
    "def one_hot_encoder(df: pd.DataFrame, columns: list) -> pd.DataFrame:\n",
    "    \"\"\"Категорийные данные в численные\"\"\"\n",
    "    df = df.copy()\n",
    "    # Убираем численные столбцы - их не трогаем\n",
    "    df_num = df.drop(columns = columns)\n",
    "    \n",
    "    # В датафрейме оставляем только категорийные столбцы\n",
    "    df = df[columns].copy()\n",
    "    \n",
    "    # Новый датафрейм который будем возвращать\n",
    "    df_prep = pd.DataFrame()\n",
    "    \n",
    "    for column in df.columns:\n",
    "        # Уникальные значения столбца\n",
    "        unique_values = df[column].unique()\n",
    "        # Если уникальных значений меньше 2, то просто replace\n",
    "        if len(unique_values) <= 2:\n",
    "            df_prep[column] = df[column]\n",
    "            for i in range(len(unique_values)):\n",
    "                df_prep[column] = df_prep[column].replace({unique_values[i]: i})\n",
    "        else: # Иначе get_dummies\n",
    "            dummies = pd.get_dummies( df[column], prefix=column )\n",
    "            df_prep = pd.concat([df_prep, dummies], axis=1)\n",
    "    \n",
    "    # Соединяем численные и категорийные столбцы\n",
    "    return pd.concat([df_num, df_prep], axis=1)"
   ]
  },
  {
   "cell_type": "code",
   "execution_count": 91,
   "id": "82cfd46d",
   "metadata": {},
   "outputs": [],
   "source": [
    "df = one_hot_encoder( df, categorical_cols )"
   ]
  },
  {
   "cell_type": "code",
   "execution_count": 157,
   "id": "9ac96324",
   "metadata": {},
   "outputs": [
    {
     "name": "stdout",
     "output_type": "stream",
     "text": [
      "<class 'pandas.core.frame.DataFrame'>\n",
      "RangeIndex: 80000 entries, 0 to 79999\n",
      "Data columns (total 25 columns):\n",
      " #   Column                             Non-Null Count  Dtype  \n",
      "---  ------                             --------------  -----  \n",
      " 0   Age                                80000 non-null  int64  \n",
      " 1   Flight Distance                    80000 non-null  int64  \n",
      " 2   Inflight wifi service              80000 non-null  int64  \n",
      " 3   Departure/Arrival time convenient  80000 non-null  int64  \n",
      " 4   Ease of Online booking             80000 non-null  int64  \n",
      " 5   Gate location                      80000 non-null  int64  \n",
      " 6   Food and drink                     80000 non-null  int64  \n",
      " 7   Online boarding                    80000 non-null  int64  \n",
      " 8   Seat comfort                       80000 non-null  int64  \n",
      " 9   Inflight entertainment             80000 non-null  int64  \n",
      " 10  On-board service                   80000 non-null  int64  \n",
      " 11  Leg room service                   80000 non-null  int64  \n",
      " 12  Baggage handling                   80000 non-null  int64  \n",
      " 13  Checkin service                    80000 non-null  int64  \n",
      " 14  Inflight service                   80000 non-null  int64  \n",
      " 15  Cleanliness                        80000 non-null  int64  \n",
      " 16  Departure Delay in Minutes         80000 non-null  int64  \n",
      " 17  Arrival Delay in Minutes           80000 non-null  float64\n",
      " 18  Gender                             80000 non-null  int64  \n",
      " 19  Customer Type                      80000 non-null  int64  \n",
      " 20  Type of Travel                     80000 non-null  int64  \n",
      " 21  Class_Business                     80000 non-null  uint8  \n",
      " 22  Class_Eco                          80000 non-null  uint8  \n",
      " 23  Class_Eco Plus                     80000 non-null  uint8  \n",
      " 24  satisfaction                       80000 non-null  int64  \n",
      "dtypes: float64(1), int64(21), uint8(3)\n",
      "memory usage: 13.7 MB\n"
     ]
    }
   ],
   "source": [
    "df.info()"
   ]
  },
  {
   "cell_type": "markdown",
   "id": "11e989c6",
   "metadata": {},
   "source": [
    "## 2. Modeling"
   ]
  },
  {
   "cell_type": "code",
   "execution_count": 92,
   "id": "97e442d6",
   "metadata": {},
   "outputs": [],
   "source": [
    "X = df.copy()\n",
    "\n",
    "y = X.pop('satisfaction')\n",
    "X_train, X_test, y_train, y_test = train_test_split(X, y, test_size = 0.2, random_state = 0)"
   ]
  },
  {
   "cell_type": "code",
   "execution_count": 97,
   "id": "bd2315ef",
   "metadata": {},
   "outputs": [],
   "source": [
    "model = RandomForestClassifier(\n",
    "    max_depth = 7,\n",
    "    min_samples_split = 5,\n",
    "    n_estimators = 120\n",
    ")\n"
   ]
  },
  {
   "cell_type": "code",
   "execution_count": 98,
   "id": "eb143f14",
   "metadata": {},
   "outputs": [
    {
     "name": "stdout",
     "output_type": "stream",
     "text": [
      "0.93384375\n"
     ]
    },
    {
     "data": {
      "text/plain": [
       "0.9338125"
      ]
     },
     "execution_count": 98,
     "metadata": {},
     "output_type": "execute_result"
    }
   ],
   "source": [
    "model.fit(X_train, y_train)\n",
    "print(model.score(X_train, y_train))\n",
    "model.score(X_test, y_test)"
   ]
  },
  {
   "cell_type": "markdown",
   "id": "a3d9b5ae",
   "metadata": {},
   "source": [
    "## 3. Hyperparameter Tuning (Find Best Parameters)"
   ]
  },
  {
   "cell_type": "code",
   "execution_count": 95,
   "id": "ed2dcf5a",
   "metadata": {},
   "outputs": [],
   "source": [
    "test_scores = []\n",
    "train_scores = []\n",
    "for i in range(1, 30):\n",
    "    model = DecisionTreeClassifier(random_state = 0, max_depth = i)\n",
    "    model.fit(X_train, y_train)\n",
    "    \n",
    "    train_scores.append( model.score(X_train, y_train) )\n",
    "\n",
    "    test_scores.append( model.score(X_test, y_test) )"
   ]
  },
  {
   "cell_type": "code",
   "execution_count": 96,
   "id": "83dae7e8",
   "metadata": {},
   "outputs": [
    {
     "data": {
      "image/png": "[encoded data removed]",
      "text/plain": [
       "<Figure size 640x480 with 1 Axes>"
      ]
     },
     "metadata": {},
     "output_type": "display_data"
    }
   ],
   "source": [
    "plt.plot(range(1, 30), train_scores, label='train');\n",
    "plt.plot(range(1, 30), test_scores, label='test');\n",
    "plt.xlabel('max_depth');\n",
    "plt.ylabel('score');\n",
    "plt.xlim(1, 30);\n",
    "plt.xticks(range(1, 30))\n",
    "plt.legend()\n",
    "plt.show();"
   ]
  },
  {
   "cell_type": "code",
   "execution_count": 99,
   "id": "1fd12980",
   "metadata": {},
   "outputs": [],
   "source": [
    "list_n_estimators = [10, 30, 50, 70, 100, 120, 150, 200, 300]\n",
    "list_max_depth = [1, 2, 3, 4, 5, 6, 7, 8, 9, 10]\n",
    "list_min_samples_split = [2, 3, 5, 7, 9, 11, 15]\n",
    "from sklearn.model_selection import GridSearchCV"
   ]
  },
  {
   "cell_type": "code",
   "execution_count": 100,
   "id": "6a685ed6",
   "metadata": {},
   "outputs": [],
   "source": [
    "grid = {'n_estimators': list_n_estimators,\n",
    "        'max_depth': list_max_depth,\n",
    "        'min_samples_split': list_min_samples_split}\n",
    "model = RandomForestClassifier(random_state = 0)"
   ]
  },
  {
   "cell_type": "code",
   "execution_count": 101,
   "id": "001c9b32",
   "metadata": {},
   "outputs": [],
   "source": [
    "search = GridSearchCV(estimator = model,\n",
    "                      param_grid = grid,\n",
    "                      n_jobs = -1,\n",
    "                      cv = 3)   "
   ]
  },
  {
   "cell_type": "code",
   "execution_count": 102,
   "id": "90316f8f",
   "metadata": {},
   "outputs": [
    {
     "name": "stdout",
     "output_type": "stream",
     "text": [
      "CPU times: total: 32.4 s\n",
      "Wall time: 18min 18s\n"
     ]
    },
    {
     "data": {
      "text/html": [
       "<style>#sk-container-id-1 {color: black;}#sk-container-id-1 pre{padding: 0;}#sk-container-id-1 div.sk-toggleable {background-color: white;}#sk-container-id-1 label.sk-toggleable__label {cursor: pointer;display: block;width: 100%;margin-bottom: 0;padding: 0.3em;box-sizing: border-box;text-align: center;}#sk-container-id-1 label.sk-toggleable__label-arrow:before {content: \"▸\";float: left;margin-right: 0.25em;color: #696969;}#sk-container-id-1 label.sk-toggleable__label-arrow:hover:before {color: black;}#sk-container-id-1 div.sk-estimator:hover label.sk-toggleable__label-arrow:before {color: black;}#sk-container-id-1 div.sk-toggleable__content {max-height: 0;max-width: 0;overflow: hidden;text-align: left;background-color: #f0f8ff;}#sk-container-id-1 div.sk-toggleable__content pre {margin: 0.2em;color: black;border-radius: 0.25em;background-color: #f0f8ff;}#sk-container-id-1 input.sk-toggleable__control:checked~div.sk-toggleable__content {max-height: 200px;max-width: 100%;overflow: auto;}#sk-container-id-1 input.sk-toggleable__control:checked~label.sk-toggleable__label-arrow:before {content: \"▾\";}#sk-container-id-1 div.sk-estimator input.sk-toggleable__control:checked~label.sk-toggleable__label {background-color: #d4ebff;}#sk-container-id-1 div.sk-label input.sk-toggleable__control:checked~label.sk-toggleable__label {background-color: #d4ebff;}#sk-container-id-1 input.sk-hidden--visually {border: 0;clip: rect(1px 1px 1px 1px);clip: rect(1px, 1px, 1px, 1px);height: 1px;margin: -1px;overflow: hidden;padding: 0;position: absolute;width: 1px;}#sk-container-id-1 div.sk-estimator {font-family: monospace;background-color: #f0f8ff;border: 1px dotted black;border-radius: 0.25em;box-sizing: border-box;margin-bottom: 0.5em;}#sk-container-id-1 div.sk-estimator:hover {background-color: #d4ebff;}#sk-container-id-1 div.sk-parallel-item::after {content: \"\";width: 100%;border-bottom: 1px solid gray;flex-grow: 1;}#sk-container-id-1 div.sk-label:hover label.sk-toggleable__label {background-color: #d4ebff;}#sk-container-id-1 div.sk-serial::before {content: \"\";position: absolute;border-left: 1px solid gray;box-sizing: border-box;top: 0;bottom: 0;left: 50%;z-index: 0;}#sk-container-id-1 div.sk-serial {display: flex;flex-direction: column;align-items: center;background-color: white;padding-right: 0.2em;padding-left: 0.2em;position: relative;}#sk-container-id-1 div.sk-item {position: relative;z-index: 1;}#sk-container-id-1 div.sk-parallel {display: flex;align-items: stretch;justify-content: center;background-color: white;position: relative;}#sk-container-id-1 div.sk-item::before, #sk-container-id-1 div.sk-parallel-item::before {content: \"\";position: absolute;border-left: 1px solid gray;box-sizing: border-box;top: 0;bottom: 0;left: 50%;z-index: -1;}#sk-container-id-1 div.sk-parallel-item {display: flex;flex-direction: column;z-index: 1;position: relative;background-color: white;}#sk-container-id-1 div.sk-parallel-item:first-child::after {align-self: flex-end;width: 50%;}#sk-container-id-1 div.sk-parallel-item:last-child::after {align-self: flex-start;width: 50%;}#sk-container-id-1 div.sk-parallel-item:only-child::after {width: 0;}#sk-container-id-1 div.sk-dashed-wrapped {border: 1px dashed gray;margin: 0 0.4em 0.5em 0.4em;box-sizing: border-box;padding-bottom: 0.4em;background-color: white;}#sk-container-id-1 div.sk-label label {font-family: monospace;font-weight: bold;display: inline-block;line-height: 1.2em;}#sk-container-id-1 div.sk-label-container {text-align: center;}#sk-container-id-1 div.sk-container {/* jupyter's `normalize.less` sets `[hidden] { display: none; }` but bootstrap.min.css set `[hidden] { display: none !important; }` so we also need the `!important` here to be able to override the default hidden behavior on the sphinx rendered scikit-learn.org. See: https://github.com/scikit-learn/scikit-learn/issues/21755 */display: inline-block !important;position: relative;}#sk-container-id-1 div.sk-text-repr-fallback {display: none;}</style><div id=\"sk-container-id-1\" class=\"sk-top-container\"><div class=\"sk-text-repr-fallback\"><pre>GridSearchCV(cv=3, estimator=RandomForestClassifier(random_state=0), n_jobs=-1,\n",
       "             param_grid={&#x27;max_depth&#x27;: [1, 2, 3, 4, 5, 6, 7, 8, 9, 10],\n",
       "                         &#x27;min_samples_split&#x27;: [2, 3, 5, 7, 9, 11, 15],\n",
       "                         &#x27;n_estimators&#x27;: [10, 30, 50, 70, 100, 120, 150, 200,\n",
       "                                          300]})</pre><b>In a Jupyter environment, please rerun this cell to show the HTML representation or trust the notebook. <br />On GitHub, the HTML representation is unable to render, please try loading this page with nbviewer.org.</b></div><div class=\"sk-container\" hidden><div class=\"sk-item sk-dashed-wrapped\"><div class=\"sk-label-container\"><div class=\"sk-label sk-toggleable\"><input class=\"sk-toggleable__control sk-hidden--visually\" id=\"sk-estimator-id-1\" type=\"checkbox\" ><label for=\"sk-estimator-id-1\" class=\"sk-toggleable__label sk-toggleable__label-arrow\">GridSearchCV</label><div class=\"sk-toggleable__content\"><pre>GridSearchCV(cv=3, estimator=RandomForestClassifier(random_state=0), n_jobs=-1,\n",
       "             param_grid={&#x27;max_depth&#x27;: [1, 2, 3, 4, 5, 6, 7, 8, 9, 10],\n",
       "                         &#x27;min_samples_split&#x27;: [2, 3, 5, 7, 9, 11, 15],\n",
       "                         &#x27;n_estimators&#x27;: [10, 30, 50, 70, 100, 120, 150, 200,\n",
       "                                          300]})</pre></div></div></div><div class=\"sk-parallel\"><div class=\"sk-parallel-item\"><div class=\"sk-item\"><div class=\"sk-label-container\"><div class=\"sk-label sk-toggleable\"><input class=\"sk-toggleable__control sk-hidden--visually\" id=\"sk-estimator-id-2\" type=\"checkbox\" ><label for=\"sk-estimator-id-2\" class=\"sk-toggleable__label sk-toggleable__label-arrow\">estimator: RandomForestClassifier</label><div class=\"sk-toggleable__content\"><pre>RandomForestClassifier(random_state=0)</pre></div></div></div><div class=\"sk-serial\"><div class=\"sk-item\"><div class=\"sk-estimator sk-toggleable\"><input class=\"sk-toggleable__control sk-hidden--visually\" id=\"sk-estimator-id-3\" type=\"checkbox\" ><label for=\"sk-estimator-id-3\" class=\"sk-toggleable__label sk-toggleable__label-arrow\">RandomForestClassifier</label><div class=\"sk-toggleable__content\"><pre>RandomForestClassifier(random_state=0)</pre></div></div></div></div></div></div></div></div></div></div>"
      ],
      "text/plain": [
       "GridSearchCV(cv=3, estimator=RandomForestClassifier(random_state=0), n_jobs=-1,\n",
       "             param_grid={'max_depth': [1, 2, 3, 4, 5, 6, 7, 8, 9, 10],\n",
       "                         'min_samples_split': [2, 3, 5, 7, 9, 11, 15],\n",
       "                         'n_estimators': [10, 30, 50, 70, 100, 120, 150, 200,\n",
       "                                          300]})"
      ]
     },
     "execution_count": 102,
     "metadata": {},
     "output_type": "execute_result"
    }
   ],
   "source": [
    "%%time\n",
    "search.fit(X_train, y_train)"
   ]
  },
  {
   "cell_type": "code",
   "execution_count": 103,
   "id": "12d2447b",
   "metadata": {},
   "outputs": [
    {
     "data": {
      "text/plain": [
       "{'max_depth': 10, 'min_samples_split': 9, 'n_estimators': 50}"
      ]
     },
     "execution_count": 103,
     "metadata": {},
     "output_type": "execute_result"
    }
   ],
   "source": [
    "search.best_params_"
   ]
  },
  {
   "cell_type": "code",
   "execution_count": 163,
   "id": "1b40afc1",
   "metadata": {},
   "outputs": [
    {
     "name": "stdout",
     "output_type": "stream",
     "text": [
      "0.947203125\n"
     ]
    },
    {
     "data": {
      "text/plain": [
       "0.94325"
      ]
     },
     "execution_count": 163,
     "metadata": {},
     "output_type": "execute_result"
    }
   ],
   "source": [
    "model = RandomForestClassifier(\n",
    "    max_depth = 10,\n",
    "    min_samples_split = 9,\n",
    "    n_estimators = 50\n",
    ")\n",
    "\n",
    "model.fit(X_train, y_train)\n",
    "print(model.score(X_train, y_train))\n",
    "model.score(X_test, y_test)"
   ]
  },
  {
   "cell_type": "markdown",
   "id": "d69e394a",
   "metadata": {},
   "source": [
    "## 4. Write Pipeline For Data Preparation and Prediction"
   ]
  },
  {
   "cell_type": "code",
   "execution_count": 174,
   "id": "26e34612",
   "metadata": {},
   "outputs": [],
   "source": [
    "\n",
    "import pickle\n",
    "filename = 'my_model.pkl'\n",
    "pickle.dump(model, open(filename, 'wb'))"
   ]
  },
  {
   "cell_type": "code",
   "execution_count": 175,
   "id": "6078bfbc",
   "metadata": {},
   "outputs": [],
   "source": [
    "df_test = pd.read_csv(\"satisfaction_test.csv\")"
   ]
  },
  {
   "cell_type": "code",
   "execution_count": null,
   "id": "da4b7868",
   "metadata": {},
   "outputs": [],
   "source": []
  },
  {
   "cell_type": "code",
   "execution_count": 176,
   "id": "01e29e3d",
   "metadata": {},
   "outputs": [],
   "source": [
    "categorical_cols1 = [ \"Gender\", \"Customer Type\" ,\"Type of Travel\",\"Class\"]"
   ]
  },
  {
   "cell_type": "code",
   "execution_count": 177,
   "id": "6752ee95",
   "metadata": {},
   "outputs": [],
   "source": [
    "def make_predictions(X: pd.DataFrame, model_name: str) -> np.array:\n",
    "    \n",
    "    X = X.drop(columns=['id'])\n",
    "    X[numerical_cols] = fill_missing_values( X[numerical_cols] )\n",
    "    X[categorical_cols1] = fill_missing_values( X[categorical_cols1], strategy='mode' )\n",
    "    \n",
    "    X = one_hot_encoder( X, categorical_cols1 )\n",
    "    \n",
    "    return predict(X, model_name)\n",
    "\n"
   ]
  },
  {
   "cell_type": "markdown",
   "id": "d405538c",
   "metadata": {},
   "source": [
    "## 5. Predict Test Data"
   ]
  },
  {
   "cell_type": "markdown",
   "id": "bc3b59e2",
   "metadata": {},
   "source": [
    "### Read and Prepare test data using your pipeline"
   ]
  },
  {
   "cell_type": "code",
   "execution_count": 178,
   "id": "1ca882de",
   "metadata": {},
   "outputs": [],
   "source": [
    "def predict(data, model_name):\n",
    "    with open(model_name, 'rb') as file:\n",
    "        model = pickle.load(file)\n",
    "        \n",
    "    y_pred = model.predict(data)\n",
    "    return y_pred"
   ]
  },
  {
   "cell_type": "code",
   "execution_count": 179,
   "id": "decc6dde",
   "metadata": {},
   "outputs": [
    {
     "data": {
      "text/plain": [
       "array([0, 0, 1, ..., 0, 1, 1], dtype=int64)"
      ]
     },
     "execution_count": 179,
     "metadata": {},
     "output_type": "execute_result"
    }
   ],
   "source": [
    "make_predictions(df_test, \"my_model.pkl\")"
   ]
  },
  {
   "cell_type": "markdown",
   "id": "65f66da6",
   "metadata": {},
   "source": [
    "### Make a prediction using your best model:"
   ]
  },
  {
   "cell_type": "code",
   "execution_count": null,
   "id": "97be2ee6",
   "metadata": {},
   "outputs": [],
   "source": []
  },
  {
   "cell_type": "code",
   "execution_count": null,
   "id": "7856ecf2",
   "metadata": {},
   "outputs": [],
   "source": []
  },
  {
   "cell_type": "code",
   "execution_count": 180,
   "id": "7ddc0c56",
   "metadata": {},
   "outputs": [],
   "source": [
    "y_pred = make_predictions(df_test, \"my_model.pkl\")\n",
    "\n",
    "df_predictions = pd.DataFrame({\n",
    "    'satisfaction': y_pred\n",
    "})\n"
   ]
  },
  {
   "cell_type": "code",
   "execution_count": 173,
   "id": "09c522a3",
   "metadata": {},
   "outputs": [
    {
     "data": {
      "text/html": [
       "<div>\n",
       "<style scoped>\n",
       "    .dataframe tbody tr th:only-of-type {\n",
       "        vertical-align: middle;\n",
       "    }\n",
       "\n",
       "    .dataframe tbody tr th {\n",
       "        vertical-align: top;\n",
       "    }\n",
       "\n",
       "    .dataframe thead th {\n",
       "        text-align: right;\n",
       "    }\n",
       "</style>\n",
       "<table border=\"1\" class=\"dataframe\">\n",
       "  <thead>\n",
       "    <tr style=\"text-align: right;\">\n",
       "      <th></th>\n",
       "      <th>satisfaction</th>\n",
       "    </tr>\n",
       "  </thead>\n",
       "  <tbody>\n",
       "    <tr>\n",
       "      <th>0</th>\n",
       "      <td>0</td>\n",
       "    </tr>\n",
       "    <tr>\n",
       "      <th>1</th>\n",
       "      <td>0</td>\n",
       "    </tr>\n",
       "    <tr>\n",
       "      <th>2</th>\n",
       "      <td>1</td>\n",
       "    </tr>\n",
       "    <tr>\n",
       "      <th>3</th>\n",
       "      <td>0</td>\n",
       "    </tr>\n",
       "    <tr>\n",
       "      <th>4</th>\n",
       "      <td>0</td>\n",
       "    </tr>\n",
       "    <tr>\n",
       "      <th>...</th>\n",
       "      <td>...</td>\n",
       "    </tr>\n",
       "    <tr>\n",
       "      <th>23899</th>\n",
       "      <td>0</td>\n",
       "    </tr>\n",
       "    <tr>\n",
       "      <th>23900</th>\n",
       "      <td>1</td>\n",
       "    </tr>\n",
       "    <tr>\n",
       "      <th>23901</th>\n",
       "      <td>0</td>\n",
       "    </tr>\n",
       "    <tr>\n",
       "      <th>23902</th>\n",
       "      <td>1</td>\n",
       "    </tr>\n",
       "    <tr>\n",
       "      <th>23903</th>\n",
       "      <td>1</td>\n",
       "    </tr>\n",
       "  </tbody>\n",
       "</table>\n",
       "<p>23904 rows × 1 columns</p>\n",
       "</div>"
      ],
      "text/plain": [
       "       satisfaction\n",
       "0                 0\n",
       "1                 0\n",
       "2                 1\n",
       "3                 0\n",
       "4                 0\n",
       "...             ...\n",
       "23899             0\n",
       "23900             1\n",
       "23901             0\n",
       "23902             1\n",
       "23903             1\n",
       "\n",
       "[23904 rows x 1 columns]"
      ]
     },
     "execution_count": 173,
     "metadata": {},
     "output_type": "execute_result"
    }
   ],
   "source": [
    "df_predictions"
   ]
  },
  {
   "cell_type": "markdown",
   "id": "f03cb867",
   "metadata": {},
   "source": [
    "### Save predictions as `YourName.csv` and submit csv file and this notebook in ecourse\n",
    "\n",
    "HINT: Use `df.to_csv('YourName.csv', index=False)`"
   ]
  },
  {
   "cell_type": "code",
   "execution_count": 181,
   "id": "f9498063",
   "metadata": {},
   "outputs": [],
   "source": [
    "\n",
    "df_predictions.to_csv('kalbaev_timur.csv', index=False)"
   ]
  },
  {
   "cell_type": "code",
   "execution_count": null,
   "id": "d692a645",
   "metadata": {},
   "outputs": [],
   "source": []
  }
 ],
 "metadata": {
  "kernelspec": {
   "display_name": "Python 3 (ipykernel)",
   "language": "python",
   "name": "python3"
  },
  "language_info": {
   "codemirror_mode": {
    "name": "ipython",
    "version": 3
   },
   "file_extension": ".py",
   "mimetype": "text/x-python",
   "name": "python",
   "nbconvert_exporter": "python",
   "pygments_lexer": "ipython3",
   "version": "3.9.4"
  }
 },
 "nbformat": 4,
 "nbformat_minor": 5
}
