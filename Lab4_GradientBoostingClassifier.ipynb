{
 "cells": [
  {
   "cell_type": "markdown",
   "id": "3c729cec",
   "metadata": {},
   "source": [
    "Atalov S.\n",
    "\n",
    "Fundamentals of Machine Learning and Artificial Intelligence\n",
    "\n",
    "# Lab 4: Implementing a Gradient Boosting Classifier from Scratch\n",
    "\n",
    "---"
   ]
  },
  {
   "cell_type": "markdown",
   "id": "5337d4b1",
   "metadata": {},
   "source": [
    "### Objective:\n",
    "The goal of this lab is to develop a deeper understanding of ensemble learning methods by implementing a Gradient Boosting Classifier from scratch in Python. You will apply your implementation to predict survival on the Titanic dataset.\n",
    "\n",
    "\n",
    "### Requirements:\n",
    "1. **Data**: Use the Titanic dataset available from the [Titanic: Machine Learning from Disaster](https://www.kaggle.com/c/titanic) on Kaggle. You will need to perform data preprocessing (handle missing values, convert categorical data to numeric).\n",
    "\n",
    "2. **Implementation**:\n",
    "    - **`GradientBoostingClassifier` class**: Your class should have at least three methods:\n",
    "      - `fit(X, y)`: Method to train the model.\n",
    "      - `predict(X)`: Method to predict the target for given input.\n",
    "      - `score(X, y)`: Method to calculate the accuracy of the model.\n",
    "    - The classifier should use decision trees as the weak learners. You can use an existing implementation of decision trees (like `DecisionTreeRegressor` from `sklearn`) or write your own from scratch.\n",
    "\n",
    "3. **Evaluation**:\n",
    "    - Split the Titanic dataset into training and testing sets.\n",
    "    - Train your model on the training set and evaluate its performance on the test set.\n",
    "    - Plot the training and testing accuracy as a function of the number of boosting rounds.\n",
    "\n",
    "### Deliverables:\n",
    "1. **Code**: A Jupyter notebook containing all the code, comments explaining your logic, and any assumptions made.\n",
    "2. **Report**: A brief report explaining your findings, the performance of the model, and any challenges you faced during the implementation.\n",
    "\n",
    "### Tips:\n",
    "- Start by understanding the algorithm using resources like Chapter 10 of [\"The Elements of Statistical Learning\"](https://www.sas.upenn.edu/~fdiebold/NoHesitations/BookAdvanced.pdf).\n",
    "- Testing your algorithm on a simpler dataset (like the Iris dataset) can help you debug.\n",
    "\n",
    "### Submission:\n",
    "Submit the Jupyter notebook and the report via the ecourse by **11 May 2024 01:00**.\n",
    "\n",
    "---\n"
   ]
  },
  {
   "cell_type": "code",
   "execution_count": 1,
   "id": "5a09eca3",
   "metadata": {},
   "outputs": [],
   "source": [
    "import pandas as pd\n",
    "import numpy as np\n",
    "import matplotlib as plt\n",
    "\n",
    "from sklearn.tree import DecisionTreeRegressor\n",
    "from sklearn.model_selection import train_test_split\n",
    "from sklearn.metrics import accuracy_score"
   ]
  },
  {
   "cell_type": "code",
   "execution_count": 2,
   "id": "243e4207",
   "metadata": {},
   "outputs": [],
   "source": [
    "# Load and prepare the data\n",
    "titanic_train = 'https://raw.githubusercontent.com/lobachevksy/teaching/main/titanic/train.csv'\n",
    "data = pd.read_csv(titanic_train)\n",
    "\n",
    "data.drop(columns=['PassengerId', 'Cabin', 'Ticket', 'Name'], inplace=True)\n",
    "\n",
    "data['Age'].fillna(data['Age'].median(), inplace=True)\n",
    "\n",
    "data['Sex'] = data['Sex'].map({'male': 1, 'female': 0}).astype(int)\n",
    "\n",
    "data = pd.get_dummies(data, columns=['Embarked'])"
   ]
  },
  {
   "cell_type": "code",
   "execution_count": 3,
   "id": "c109ab7d",
   "metadata": {},
   "outputs": [],
   "source": [
    "X = data.copy()\n",
    "y = X.pop('Survived')\n",
    "\n",
    "X_train, X_test, y_train, y_test = train_test_split(X, y, test_size=0.2, random_state=0)"
   ]
  },
  {
   "cell_type": "markdown",
   "id": "7e98427b",
   "metadata": {},
   "source": []
  },
  {
   "cell_type": "code",
   "execution_count": 34,
   "id": "a518a96d",
   "metadata": {},
   "outputs": [],
   "source": [
    "from sklearn.tree import DecisionTreeClassifier\n",
    "\n",
    "class GradientBoostingClassifier:\n",
    "    def __init__(self, n_estimators = 100,learning_rate = 0.5,max_depth = 2,min_samples_split=2):\n",
    "        self.n_estimators = n_estimators\n",
    "        self.learning_rate = learning_rate\n",
    "        self.max_depth = max_depth\n",
    "        self.estimators = []\n",
    "        # Initialize trees\n",
    "        self.trees = []\n",
    "        for _ in range(n_estimators):\n",
    "            self.trees.append(\n",
    "                DecisionTreeRegressor(\n",
    "                    max_depth=max_depth,\n",
    "                    min_samples_split=min_samples_split\n",
    "                )\n",
    "            )\n",
    "\n",
    " \n",
    "\n",
    "    def entropy_loss_gradient(self, y, p):\n",
    "        \"\"\" Entropy loss \"\"\"\n",
    "        p = np.clip(p, 1e-15, 1 - 1e-15)\n",
    "        return -(y / p) + (1 - y) / (1 - p)\n",
    "\n",
    "    def sigmoid(self,z):\n",
    "        \"\"\" Sigmoid function. \"\"\"\n",
    "        # TODO\n",
    "        return 1/(1+np.exp(-z))\n",
    "\n",
    "    def fit(self,X,y):\n",
    "        y_hat = np.full_like(y, fill_value=np.mean(y, axis=0))\n",
    "        for tree in self.trees:\n",
    "            grad = -self.entropy_loss_gradient(y_train, y_hat)\n",
    "            \n",
    "            tree.fit(X_train, grad)\n",
    "            \n",
    "            h = tree.predict(X)\n",
    "            \n",
    "            y_hat = y_hat + self.learning_rate * h\n",
    "            \n",
    "    def predict(self,X):\n",
    "        y_hat = np.array([])\n",
    "        for tree in self.trees:\n",
    "            h = tree.predict(X)\n",
    "            h = self.learning_rate * h\n",
    "            y_hat = h if not y_hat.any() else y_hat + h\n",
    "            \n",
    "        y_hat = np.clip(y_hat, 1e-30, 1 - 1e-30)\n",
    "        \n",
    "        probabilities = self.sigmoid(y_hat)\n",
    "        y_hat = (probabilities > 0.5).astype(\"int\")\n",
    "        return y_hat\n",
    "\n",
    "    def score(self,x,y):\n",
    "        y_pred = self.predict(x)\n",
    "        first = len(y_pred)\n",
    "        return np.sum(y==y_pred)/first \n"
   ]
  },
  {
   "cell_type": "code",
   "execution_count": 43,
   "id": "49c529b6",
   "metadata": {},
   "outputs": [],
   "source": [
    "clf = GradientBoostingClassifier( n_estimators = 1000,learning_rate = 0.1,max_depth = 2, min_samples_split=10)\n",
    "clf.fit(X_train,y_train)\n"
   ]
  },
  {
   "cell_type": "code",
   "execution_count": 44,
   "id": "c4127693",
   "metadata": {},
   "outputs": [
    {
     "data": {
      "text/plain": [
       "array([0, 0, 0, 1, 0, 1, 1, 1, 1, 1, 1, 1, 0, 1, 1, 0, 0, 0, 0, 1, 0, 1,\n",
       "       0, 0, 0, 1, 0, 1, 0, 0, 0, 1, 0, 1, 0, 1, 0, 1, 0, 0, 1, 0, 0, 0,\n",
       "       1, 0, 0, 1, 1, 1, 0, 1, 1, 0, 0, 0, 0, 0, 0, 0, 1, 0, 1, 1, 1, 0,\n",
       "       1, 0, 1, 1, 0, 1, 1, 0, 0, 1, 0, 0, 0, 0, 0, 1, 0, 0, 0, 1, 1, 0,\n",
       "       1, 1, 0, 0, 1, 1, 0, 0, 0, 0, 0, 1, 0, 0, 1, 0, 1, 0, 1, 0, 0, 1,\n",
       "       0, 1, 1, 0, 0, 1, 0, 1, 0, 1, 0, 0, 0, 0, 0, 0, 0, 0, 0, 0, 1, 0,\n",
       "       0, 0, 0, 0, 1, 1, 0, 0, 1, 1, 0, 1, 1, 0, 0, 1, 1, 0, 0, 0, 0, 1,\n",
       "       1, 0, 0, 0, 1, 1, 0, 0, 1, 1, 0, 0, 0, 1, 0, 0, 0, 1, 0, 0, 1, 0,\n",
       "       1, 0, 1])"
      ]
     },
     "execution_count": 44,
     "metadata": {},
     "output_type": "execute_result"
    }
   ],
   "source": [
    "clf.predict(X_test)\n"
   ]
  },
  {
   "cell_type": "code",
   "execution_count": 45,
   "id": "7422d304",
   "metadata": {},
   "outputs": [
    {
     "data": {
      "text/plain": [
       "0.8044692737430168"
      ]
     },
     "execution_count": 45,
     "metadata": {},
     "output_type": "execute_result"
    }
   ],
   "source": [
    "clf.score(X_test,y_test)"
   ]
  },
  {
   "cell_type": "code",
   "execution_count": null,
   "id": "8cc8adbf",
   "metadata": {},
   "outputs": [],
   "source": []
  },
  {
   "cell_type": "code",
   "execution_count": 55,
   "id": "e046c30d",
   "metadata": {},
   "outputs": [
    {
     "data": {
      "image/png": "[encoded data removed]",
      "text/plain": [
       "<Figure size 640x480 with 1 Axes>"
      ]
     },
     "metadata": {},
     "output_type": "display_data"
    }
   ],
   "source": [
    "import matplotlib.pyplot as plt\n",
    "test_accuracies = []\n",
    "train_accuracies = []\n",
    "e_estim = [100 , 150, 200 , 300 ,450 ,700 ,1050 , 1550]\n",
    "\n",
    "# Number of boosting rounds to tr1)\n",
    "\n",
    "for i in e_estim:\n",
    "    # Fit the model on the training data\n",
    "    clf = GradientBoostingClassifier( n_estimators = i,learning_rate = 0.1,max_depth = 2, min_samples_split=10)\n",
    "\n",
    "    clf.fit(X_train, y_train)\n",
    "    \n",
    "    \n",
    "    # Calculate and store accuracies\n",
    "    test = clf.score(X_test, y_test)\n",
    "    train = clf.score(X_train,y_train)\n",
    "    \n",
    "    test_accuracies.append(test)\n",
    "    train_accuracies.append(train)\n",
    "\n",
    "# Plotting the accuracies\n",
    "#plt.figure(figsize=(10, 6))\n",
    "plt.plot(e_estim, test_accuracies, label='Test Accuracy')\n",
    "plt.plot(e_estim, train_accuracies, label='Training Accuracy')\n",
    "plt.xlabel('Number of Boosting Rounds')\n",
    "plt.ylabel('Accuracy')\n",
    "plt.title('n_estimater')\n",
    "plt.legend()\n",
    "plt.show()"
   ]
  },
  {
   "cell_type": "markdown",
   "id": "49a5e6b9",
   "metadata": {},
   "source": [
    "Было очень тяжело но, я смог . Я иницризировал самые основные , это\n",
    "1)n_estimators - число деревьев\n",
    "2)learning_rate - количесвто шагов\n",
    "3)max_depth - глубина\n",
    "4)min_samples_split - минимальное количество образцов \n",
    "дальше я стренировал (n_esitmators) и добавил в список для дальнейшего работы и с ним , чтоб его бустить.  Дальше все из классной работы , функции не функции и их подстраивал для класса .\n",
    ".Было проблемой сделать метод score , точнее его реализации. Спасибо Байе , он  пояснил как делать score "
   ]
  },
  {
   "cell_type": "markdown",
   "id": "33200f4c",
   "metadata": {},
   "source": []
  }
 ],
 "metadata": {
  "kernelspec": {
   "display_name": "Python 3 (ipykernel)",
   "language": "python",
   "name": "python3"
  },
  "language_info": {
   "codemirror_mode": {
    "name": "ipython",
    "version": 3
   },
   "file_extension": ".py",
   "mimetype": "text/x-python",
   "name": "python",
   "nbconvert_exporter": "python",
   "pygments_lexer": "ipython3",
   "version": "3.9.4"
  }
 },
 "nbformat": 4,
 "nbformat_minor": 5
}
